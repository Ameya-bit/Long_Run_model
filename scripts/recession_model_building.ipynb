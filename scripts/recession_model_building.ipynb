{
 "cells": [
  {
   "cell_type": "code",
   "execution_count": 9,
   "metadata": {},
   "outputs": [
    {
     "name": "stdout",
     "output_type": "stream",
     "text": [
      "mean absolute error:  0.5850423763338419\n",
      "[-1.05049511e+00  1.90196423e-01 -2.18902214e+00  2.97547328e+00\n",
      "  6.66133815e-16 -3.96714083e+00 -1.97371157e+00  4.15003996e+00\n",
      " -2.94639185e+00 -7.61134080e-01  2.63568040e+00 -1.77808867e+00\n",
      "  6.77304012e-02  1.37926962e+00  3.11787736e+00  1.03673939e+00\n",
      "  4.85700172e-01 -4.21479263e-03  1.20924659e-11]\n"
     ]
    }
   ],
   "source": [
    "# create model\n",
    "# 11/19/23\n",
    "\n",
    "import numpy as np\n",
    "import pandas as pd        # For loading and processing the dataset\n",
    "from sklearn.model_selection import train_test_split \n",
    "from sklearn.linear_model import LinearRegression \n",
    "from sklearn.metrics import mean_squared_error, mean_absolute_error \n",
    "from sklearn import preprocessing \n",
    "\n",
    "df_train = pd.read_csv(\"../data/US_Recession_train.csv\")\n",
    "df_test = pd.read_csv(\"../data/US_Recession_test.csv\")\n",
    "\n",
    "def modelCreation():\n",
    "    model = LinearRegression()\n",
    "    trainIn = df_train.drop(['year_month', 'Unnamed: 0', 'Recession'], axis=1)\n",
    "    trainOut = df_train['Recession']\n",
    "    testIn = df_test.drop(['year_month', 'Unnamed: 0', 'Recession'], axis=1)\n",
    "    testOut = df_test['Recession']\n",
    "    model.fit(trainIn, trainOut)\n",
    "    predictions = model.predict(testIn)\n",
    "    print('mean absolute error: ', mean_absolute_error(testOut, predictions))\n",
    "    print(model.coef_)\n",
    "\n",
    "modelCreation()\n",
    "\n"
   ]
  },
  {
   "cell_type": "code",
   "execution_count": null,
   "metadata": {},
   "outputs": [],
   "source": []
  }
 ],
 "metadata": {
  "kernelspec": {
   "display_name": "Python 3",
   "language": "python",
   "name": "python3"
  },
  "language_info": {
   "codemirror_mode": {
    "name": "ipython",
    "version": 3
   },
   "file_extension": ".py",
   "mimetype": "text/x-python",
   "name": "python",
   "nbconvert_exporter": "python",
   "pygments_lexer": "ipython3",
   "version": "3.11.4"
  }
 },
 "nbformat": 4,
 "nbformat_minor": 2
}
