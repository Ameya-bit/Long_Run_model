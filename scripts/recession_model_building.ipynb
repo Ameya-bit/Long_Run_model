{
 "cells": [
  {
   "cell_type": "code",
   "execution_count": 4,
   "metadata": {},
   "outputs": [
    {
     "name": "stdout",
     "output_type": "stream",
     "text": [
      "mean absolute error:  0.5850423763338419\n",
      "mean squared error:  4.084968426955212\n",
      "Price_x: -1.0504951149193862\n",
      "INDPRO: 0.1901964228778875\n",
      "CPI: -2.189022144999261\n",
      "3 Mo: 2.9754732783242845\n",
      "4 Mo: 6.661338147750939e-16\n",
      "6 Mo: -3.9671408293764534\n",
      "1 Yr: -1.9737115677455814\n",
      "2 Yr: 4.150039959224385\n",
      "3 Yr: -2.946391848924442\n",
      "5 Yr: -0.7611340802601743\n",
      "7 Yr: 2.635680396433462\n",
      "10 Yr: -1.7780886661303636\n",
      "20 Yr: 0.06773040118748375\n",
      "30 Yr: 1.3792696196946381\n",
      "GDP: 3.117877361840219\n",
      "Rate: 1.0367393867909125\n",
      "BBK_Index: 0.48570017219533856\n",
      "Housing_Index: -0.00421479263397778\n",
      "gov_aid: 1.2092465917490358e-11\n"
     ]
    }
   ],
   "source": [
    "# create model\n",
    "# 11/19/23\n",
    "\n",
    "import numpy as np\n",
    "import pandas as pd        # For loading and processing the dataset\n",
    "from sklearn.model_selection import train_test_split \n",
    "from sklearn.linear_model import LinearRegression \n",
    "from sklearn.metrics import mean_squared_error, mean_absolute_error \n",
    "from sklearn import preprocessing \n",
    "\n",
    "df_train = pd.read_csv(\"../data/US_Recession_train.csv\")\n",
    "df_test = pd.read_csv(\"../data/US_Recession_test.csv\")\n",
    "\n",
    "def modelCreation():\n",
    "    column_nam = list(df_train.drop(['year_month', 'Unnamed: 0', 'Recession'], axis=1).columns.values)\n",
    "    model = LinearRegression()\n",
    "    trainIn = df_train.drop(['year_month', 'Unnamed: 0', 'Recession'], axis=1)\n",
    "    trainOut = df_train['Recession']\n",
    "    testIn = df_test.drop(['year_month', 'Unnamed: 0', 'Recession'], axis=1)\n",
    "    testOut = df_test['Recession']\n",
    "    model.fit(trainIn, trainOut)\n",
    "    predictions = model.predict(testIn)\n",
    "    print('mean absolute error: ', mean_absolute_error(testOut, predictions))\n",
    "    print('mean squared error: ', mean_squared_error(testOut, predictions))\n",
    "    for i in range(len(model.coef_)):\n",
    "        print(str(column_nam[i]) + \": \" + str(model.coef_[i]))\n",
    "\n",
    "modelCreation()\n",
    "\n"
   ]
  },
  {
   "cell_type": "code",
   "execution_count": null,
   "metadata": {},
   "outputs": [],
   "source": []
  }
 ],
 "metadata": {
  "kernelspec": {
   "display_name": "Python 3",
   "language": "python",
   "name": "python3"
  },
  "language_info": {
   "codemirror_mode": {
    "name": "ipython",
    "version": 3
   },
   "file_extension": ".py",
   "mimetype": "text/x-python",
   "name": "python",
   "nbconvert_exporter": "python",
   "pygments_lexer": "ipython3",
   "version": "3.11.4"
  }
 },
 "nbformat": 4,
 "nbformat_minor": 2
}
