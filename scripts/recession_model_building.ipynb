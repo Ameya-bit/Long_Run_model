{
 "cells": [
  {
   "cell_type": "code",
   "execution_count": 43,
   "metadata": {},
   "outputs": [
    {
     "name": "stdout",
     "output_type": "stream",
     "text": [
      "mean absolute error:  0.06060606060606061\n",
      "mean squared error:  0.06060606060606061\n",
      "Price_x: -1.457217575757393e-19\n",
      "INDPRO: -4.909666396148343e-19\n",
      "CPI: -3.0098138414730853e-19\n",
      "3 Mo: -4.2123006632399056e-19\n",
      "4 Mo: 0.0\n",
      "6 Mo: -4.2705507913808106e-19\n",
      "1 Yr: -4.365256911440104e-19\n",
      "2 Yr: -4.564194665550701e-19\n",
      "3 Yr: -4.754837851071407e-19\n",
      "5 Yr: -5.185625875649085e-19\n",
      "7 Yr: -5.418935304257655e-19\n",
      "10 Yr: -5.581498572315123e-19\n",
      "20 Yr: -4.963628651861107e-19\n",
      "30 Yr: -5.828416470443635e-19\n",
      "GDP: -2.433020288402905e-19\n",
      "Rate: -4.1631125278583864e-19\n",
      "BBK_Index: -5.383976379161987e-19\n",
      "Housing_Index: -1.5157961307999636e-19\n",
      "gov_aid: -7.378176926349786e-11\n"
     ]
    }
   ],
   "source": [
    "# create model\n",
    "# 11/19/23\n",
    "\n",
    "import numpy as np\n",
    "import pandas as pd        # For loading and processing the dataset\n",
    "from sklearn.model_selection import train_test_split \n",
    "from sklearn.linear_model import LogisticRegression \n",
    "from sklearn.metrics import mean_squared_error, mean_absolute_error \n",
    "from sklearn import preprocessing \n",
    "import seaborn as sns\n",
    "import matplotlib.pyplot as plt\n",
    "\n",
    "df_train = pd.read_csv(\"../data/US_Recession_train.csv\")\n",
    "df_test = pd.read_csv(\"../data/US_Recession_test.csv\")\n",
    "\n",
    "# finds the average 'longrun' time\n",
    "def determineLongRun(sigChange):\n",
    "    longRun = df_train.drop(['year_month', 'Unnamed: 0', 'Recession'], axis=1)\n",
    "    column_nam = list(longRun.columns.values)\n",
    "    longRunRange = 0\n",
    "    # go through each row of dataset\n",
    "    for i in range(len(longRun)):\n",
    "        now = longRun.iloc[i]\n",
    "        for j in range(i+1, len(longRun)):\n",
    "            futureGuess = longRun.iloc[j]\n",
    "            sum = 0\n",
    "            # go through each value in row\n",
    "            for k in range(len(column_nam)):\n",
    "                sum += (now.iat[k] - futureGuess.iat[k])\n",
    "            if(sum / len(column_nam) >= sigChange):\n",
    "                longRunRange += (j - i)\n",
    "                break\n",
    "    return(longRunRange / len(longRun))\n",
    "\n",
    "# predicts recession\n",
    "def modelCreation(longrun):\n",
    "    column_nam = list(df_train.drop(['year_month', 'Unnamed: 0', 'Recession'], axis=1).columns.values)\n",
    "    model = LogisticRegression()\n",
    "    trainIn = df_train.drop(['year_month', 'Unnamed: 0', 'Recession'], axis=1).drop(labels=(range(275-longrun, 275)), axis=0)\n",
    "    trainOut = df_train['Recession'].drop(labels=(range(0, 0+longrun)), axis=0)\n",
    "    testIn = df_test.drop(['year_month', 'Unnamed: 0', 'Recession'], axis=1).drop(labels=(range(69-longrun, 69)), axis=0)\n",
    "    testOut = df_test['Recession'].drop(labels=(range(0, 0+longrun)), axis=0)\n",
    "    model.fit(trainIn, trainOut)\n",
    "    predictions = model.predict(testIn)\n",
    "    print('mean absolute error: ', mean_absolute_error(testOut, predictions))\n",
    "    print('mean squared error: ', mean_squared_error(testOut, predictions))\n",
    "    for i in range(len(model.coef_[0])):\n",
    "        print(str(column_nam[i]) + \": \" + str(model.coef_[0][i]))\n",
    "    \n",
    "\n",
    "\n",
    "\n",
    "modelCreation(36)\n",
    "# determineLongRun()\n"
   ]
  },
  {
   "cell_type": "code",
   "execution_count": null,
   "metadata": {},
   "outputs": [],
   "source": []
  }
 ],
 "metadata": {
  "kernelspec": {
   "display_name": "Python 3",
   "language": "python",
   "name": "python3"
  },
  "language_info": {
   "codemirror_mode": {
    "name": "ipython",
    "version": 3
   },
   "file_extension": ".py",
   "mimetype": "text/x-python",
   "name": "python",
   "nbconvert_exporter": "python",
   "pygments_lexer": "ipython3",
   "version": "3.11.4"
  }
 },
 "nbformat": 4,
 "nbformat_minor": 2
}
