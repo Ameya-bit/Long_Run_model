{
 "cells": [
  {
   "cell_type": "code",
   "execution_count": 15,
   "metadata": {},
   "outputs": [
    {
     "name": "stderr",
     "output_type": "stream",
     "text": [
      "ERROR: unknown command \"upgrade\"\n",
      "\n"
     ]
    }
   ],
   "source": [
    "# download packages from requirements.txt\n",
    "\n",
    "import sys\n",
    "!{sys.executable} -m pip install -r requirements.txt\n"
   ]
  },
  {
   "cell_type": "code",
   "execution_count": 19,
   "metadata": {},
   "outputs": [
    {
     "name": "stdout",
     "output_type": "stream",
     "text": [
      "from 4 to 12, the recession lasts\n",
      "from 132 to 140, the recession lasts\n",
      "from 166 to 184, the recession lasts\n",
      "from 312 to 314, the recession lasts\n"
     ]
    }
   ],
   "source": [
    "\n",
    "# split and clean datasets\n",
    "\n",
    "import numpy as np\n",
    "import pandas as pd        # For loading and processing the dataset\n",
    "import tensorflow as tf    # Of course, we need TensorFlow.\n",
    "\n",
    "# label the dataset US_Recession.csv by year\n",
    "df = pd.read_csv('../data/US_Recession.csv')\n",
    "\n",
    "def labelYear():\n",
    "    df = pd.read_csv('../data/US_Recession.csv')\n",
    "    year_month = []\n",
    "    print(df.head(5))\n",
    "    y = 1990\n",
    "    m = 4;\n",
    "    while(len(year_month) != 344):\n",
    "        year_month.append(str(y) + \"-\" + str(m))\n",
    "        m += 1\n",
    "        if(y == 2004 and m == 2):\n",
    "            m-=1\n",
    "            y+=4\n",
    "        if(m == 13):\n",
    "            m = 1\n",
    "            y += 1\n",
    "    df[\"year_month\"] = year_month\n",
    "    df.to_csv('../data/US_Recession.csv', index=False)\n",
    "    print(df.head(5))\n",
    "\n",
    "def RLSEG():\n",
    "    count = 0\n",
    "    i = 0\n",
    "    df_rec = df[\"Recession\"]\n",
    "    while(i != 343):\n",
    "        if(df_rec[i] == 1):\n",
    "            inum = i\n",
    "            while(df_rec[i] == 1):\n",
    "                count+=1\n",
    "                i+=1\n",
    "            print(\"from \" + str(inum) + \" to \" + str(i) + \", the recession lasts\")\n",
    "        i+=1\n",
    "            \n",
    "\n",
    "def splitDataSet(): \n",
    "    index = int(len(df) * 0.9)\n",
    "    training_data = df[:index]\n",
    "    testing_data = df[index:]\n",
    "    training_data.to_csv('../data/training_Recession.csv', index=False)\n",
    "    testing_data.to_csv('../data/testing_Recession.csv', index=False)\n",
    "\n",
    "RLSEG()\n",
    "# splitDataSet()\n",
    "# labelYear()\n"
   ]
  }
 ],
 "metadata": {
  "kernelspec": {
   "display_name": "Python 3",
   "language": "python",
   "name": "python3"
  },
  "language_info": {
   "codemirror_mode": {
    "name": "ipython",
    "version": 3
   },
   "file_extension": ".py",
   "mimetype": "text/x-python",
   "name": "python",
   "nbconvert_exporter": "python",
   "pygments_lexer": "ipython3",
   "version": "3.11.4"
  }
 },
 "nbformat": 4,
 "nbformat_minor": 2
}
