{
 "cells": [
  {
   "cell_type": "code",
   "execution_count": 15,
   "metadata": {},
   "outputs": [
    {
     "name": "stderr",
     "output_type": "stream",
     "text": [
      "ERROR: unknown command \"upgrade\"\n",
      "\n"
     ]
    }
   ],
   "source": [
    "import sys\n",
    "!{sys.executable} -m pip install -r requirements.txt\n"
   ]
  },
  {
   "cell_type": "code",
   "execution_count": 37,
   "metadata": {},
   "outputs": [
    {
     "name": "stdout",
     "output_type": "stream",
     "text": [
      "   Unnamed: 0   Price_x    INDPRO       CPI      3 Mo  4 Mo      6 Mo  \\\n",
      "0           0  0.007111  0.046856  0.000000  1.000000   0.0  1.000000   \n",
      "1           1  0.009875  0.051140  0.001183  0.996264   0.0  0.991458   \n",
      "2           2  0.012196  0.055858  0.005914  0.993773   0.0  0.976205   \n",
      "3           3  0.012114  0.053475  0.009463  0.976339   0.0  0.960342   \n",
      "4           4  0.005410  0.058643  0.015968  0.957659   0.0  0.939597   \n",
      "\n",
      "       1 Yr      2 Yr      3 Yr      5 Yr      7 Yr     10 Yr  20 Yr  \\\n",
      "0  1.000000  1.000000  1.000000  1.000000  0.995788  0.981235    0.0   \n",
      "1  0.984958  0.987719  0.986550  0.998219  0.993983  0.976998    0.0   \n",
      "2  0.967509  0.962573  0.963743  0.969121  0.968712  0.950363    0.0   \n",
      "3  0.943442  0.938012  0.946199  0.956057  0.961492  0.951574    0.0   \n",
      "4  0.927798  0.930994  0.943860  0.971496  0.985560  0.987893    0.0   \n",
      "\n",
      "      30 Yr      GDP      Rate  BBK_Index  Housing_Index  Recession  \n",
      "0  0.957474  0.00000  0.996359   0.463980       0.008161          0  \n",
      "1  0.953608  0.00000  0.986650   0.449089       0.009267          0  \n",
      "2  0.926546  0.00000  1.000000   0.422505       0.010159          0  \n",
      "3  0.934278  0.00273  0.983010   0.397466       0.010395          0  \n",
      "4  0.985825  0.00273  0.980583   0.373584       0.010048          1  \n",
      "   Unnamed: 0   Price_x    INDPRO       CPI      3 Mo  4 Mo      6 Mo  \\\n",
      "0           0  0.007111  0.046856  0.000000  1.000000   0.0  1.000000   \n",
      "1           1  0.009875  0.051140  0.001183  0.996264   0.0  0.991458   \n",
      "2           2  0.012196  0.055858  0.005914  0.993773   0.0  0.976205   \n",
      "3           3  0.012114  0.053475  0.009463  0.976339   0.0  0.960342   \n",
      "4           4  0.005410  0.058643  0.015968  0.957659   0.0  0.939597   \n",
      "\n",
      "       1 Yr      2 Yr      3 Yr  ...      7 Yr     10 Yr  20 Yr     30 Yr  \\\n",
      "0  1.000000  1.000000  1.000000  ...  0.995788  0.981235    0.0  0.957474   \n",
      "1  0.984958  0.987719  0.986550  ...  0.993983  0.976998    0.0  0.953608   \n",
      "2  0.967509  0.962573  0.963743  ...  0.968712  0.950363    0.0  0.926546   \n",
      "3  0.943442  0.938012  0.946199  ...  0.961492  0.951574    0.0  0.934278   \n",
      "4  0.927798  0.930994  0.943860  ...  0.985560  0.987893    0.0  0.985825   \n",
      "\n",
      "       GDP      Rate  BBK_Index  Housing_Index  Recession  year_month  \n",
      "0  0.00000  0.996359   0.463980       0.008161          0      1990-4  \n",
      "1  0.00000  0.986650   0.449089       0.009267          0      1990-5  \n",
      "2  0.00000  1.000000   0.422505       0.010159          0      1990-6  \n",
      "3  0.00273  0.983010   0.397466       0.010395          0      1990-7  \n",
      "4  0.00273  0.980583   0.373584       0.010048          1      1990-8  \n",
      "\n",
      "[5 rows x 21 columns]\n"
     ]
    }
   ],
   "source": [
    "\n",
    "import numpy as np\n",
    "import pandas as pd        # For loading and processing the dataset\n",
    "import tensorflow as tf    # Of course, we need TensorFlow.\n",
    "\n",
    "# label the dataset US_Recession.csv by year\n",
    "df = pd.read_csv('../data/US_Recession.csv')\n",
    "\n",
    "def labelYear():\n",
    "    df = pd.read_csv('../data/US_Recession.csv')\n",
    "    year_month = []\n",
    "    print(df.head(5))\n",
    "    y = 1990\n",
    "    m = 4;\n",
    "    while(len(year_month) != 344):\n",
    "        year_month.append(str(y) + \"-\" + str(m))\n",
    "        m += 1\n",
    "        if(m == 13):\n",
    "            m = 1\n",
    "            y += 1\n",
    "    df[\"year_month\"] = year_month\n",
    "    df.to_csv('../data/US_Recession.csv', index=False)\n",
    "    print(df.head(5))\n",
    "\n",
    "labelYear()\n"
   ]
  }
 ],
 "metadata": {
  "kernelspec": {
   "display_name": "Python 3",
   "language": "python",
   "name": "python3"
  },
  "language_info": {
   "codemirror_mode": {
    "name": "ipython",
    "version": 3
   },
   "file_extension": ".py",
   "mimetype": "text/x-python",
   "name": "python",
   "nbconvert_exporter": "python",
   "pygments_lexer": "ipython3",
   "version": "3.11.4"
  }
 },
 "nbformat": 4,
 "nbformat_minor": 2
}
